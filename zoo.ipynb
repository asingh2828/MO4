{
 "cells": [
  {
   "cell_type": "code",
   "execution_count": 9,
   "id": "31fad5db-62d1-4bc1-95c8-35d75aa4518f",
   "metadata": {},
   "outputs": [],
   "source": [
    "# 11.1 Creating and using the zoo.py module:\n",
    "# zoo.py\n",
    "\n",
    "def hours():\n",
    "    print('Open 9-5 daily')\n",
    "\n"
   ]
  },
  {
   "cell_type": "code",
   "execution_count": 12,
   "id": "db296200-a33a-4d8d-9f9d-ab9f7eff146f",
   "metadata": {},
   "outputs": [
    {
     "name": "stdout",
     "output_type": "stream",
     "text": [
      "Open 9-5 daily\n"
     ]
    }
   ],
   "source": [
    ">>> import zoo\n",
    ">>> zoo.hours()\n"
   ]
  },
  {
   "cell_type": "code",
   "execution_count": 13,
   "id": "54be8e6b-ea31-4396-b02d-cdbbcc4256be",
   "metadata": {},
   "outputs": [
    {
     "name": "stdout",
     "output_type": "stream",
     "text": [
      "Open 9-5 daily\n"
     ]
    }
   ],
   "source": [
    ">>> import zoo as menagerie\n",
    ">>> menagerie.hours()\n"
   ]
  },
  {
   "cell_type": "code",
   "execution_count": null,
   "id": "cb78c785-2f22-4e4f-9267-8c7156456b41",
   "metadata": {},
   "outputs": [],
   "source": []
  }
 ],
 "metadata": {
  "kernelspec": {
   "display_name": "Python 3 (ipykernel)",
   "language": "python",
   "name": "python3"
  },
  "language_info": {
   "codemirror_mode": {
    "name": "ipython",
    "version": 3
   },
   "file_extension": ".py",
   "mimetype": "text/x-python",
   "name": "python",
   "nbconvert_exporter": "python",
   "pygments_lexer": "ipython3",
   "version": "3.11.7"
  }
 },
 "nbformat": 4,
 "nbformat_minor": 5
}
